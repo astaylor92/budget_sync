{
 "cells": [
  {
   "cell_type": "code",
   "execution_count": 1,
   "metadata": {},
   "outputs": [],
   "source": [
    "import pandas as pd"
   ]
  },
  {
   "cell_type": "code",
   "execution_count": 4,
   "metadata": {},
   "outputs": [],
   "source": [
    "txns = pd.read_parquet(\"/Users/andrewtaylor/Google Drive/01-Banking_Ins/Budget_Data/data/raw_transactions.parquet\")\n",
    "accts = pd.read_parquet(\"/Users/andrewtaylor/Google Drive/01-Banking_Ins/Budget_Data/data/account_info.parquet\")"
   ]
  },
  {
   "cell_type": "code",
   "execution_count": 5,
   "metadata": {},
   "outputs": [
    {
     "data": {
      "text/html": [
       "<div>\n",
       "<style scoped>\n",
       "    .dataframe tbody tr th:only-of-type {\n",
       "        vertical-align: middle;\n",
       "    }\n",
       "\n",
       "    .dataframe tbody tr th {\n",
       "        vertical-align: top;\n",
       "    }\n",
       "\n",
       "    .dataframe thead th {\n",
       "        text-align: right;\n",
       "    }\n",
       "</style>\n",
       "<table border=\"1\" class=\"dataframe\">\n",
       "  <thead>\n",
       "    <tr style=\"text-align: right;\">\n",
       "      <th></th>\n",
       "      <th>account_id</th>\n",
       "      <th>txn_id</th>\n",
       "      <th>txn_date</th>\n",
       "      <th>txn_name</th>\n",
       "      <th>txn_name_plaid</th>\n",
       "      <th>txn_amount</th>\n",
       "      <th>txn_cat_plaid</th>\n",
       "      <th>txn_cat_plaid_dtl</th>\n",
       "      <th>create_dt</th>\n",
       "      <th>raw_data</th>\n",
       "      <th>archive_dt</th>\n",
       "      <th>current</th>\n",
       "    </tr>\n",
       "  </thead>\n",
       "  <tbody>\n",
       "    <tr>\n",
       "      <th>0</th>\n",
       "      <td>ZAVvoKq6KXhOEA898ZBEUmexwdenxEubqxmxa</td>\n",
       "      <td>R1E4rLpaLAUAY1g5gXX3fjqPMPYjB9teXNxP9</td>\n",
       "      <td>2023-11-02</td>\n",
       "      <td>USAA P&amp;C AUTOPAY</td>\n",
       "      <td>None</td>\n",
       "      <td>13.83</td>\n",
       "      <td>GENERAL_SERVICES</td>\n",
       "      <td>GENERAL_SERVICES_INSURANCE</td>\n",
       "      <td>2023-11-23</td>\n",
       "      <td>{'account_id': 'ZAVvoKq6KXhOEA898ZBEUmexwdenxE...</td>\n",
       "      <td>NaN</td>\n",
       "      <td>True</td>\n",
       "    </tr>\n",
       "    <tr>\n",
       "      <th>1</th>\n",
       "      <td>ZAVvoKq6KXhOEA898ZBEUmexwdenxEubqxmxa</td>\n",
       "      <td>0qPEomLYmnunAQgjgNvkCvjxz5eAYeIv6nr5D</td>\n",
       "      <td>2023-08-14</td>\n",
       "      <td>Venmo</td>\n",
       "      <td>None</td>\n",
       "      <td>20.00</td>\n",
       "      <td>TRANSFER_OUT</td>\n",
       "      <td>TRANSFER_OUT_ACCOUNT_TRANSFER</td>\n",
       "      <td>2023-11-23</td>\n",
       "      <td>{'account_id': 'ZAVvoKq6KXhOEA898ZBEUmexwdenxE...</td>\n",
       "      <td>NaN</td>\n",
       "      <td>True</td>\n",
       "    </tr>\n",
       "    <tr>\n",
       "      <th>2</th>\n",
       "      <td>ZAVvoKq6KXhOEA898ZBEUmexwdenxEubqxmxa</td>\n",
       "      <td>4KyE9vqYvnu495PYPwR9C3Y0V4Y111cDXoPdQ</td>\n",
       "      <td>2023-03-28</td>\n",
       "      <td>ALLY BANK $TRANSFER</td>\n",
       "      <td>None</td>\n",
       "      <td>20000.00</td>\n",
       "      <td>TRANSFER_OUT</td>\n",
       "      <td>TRANSFER_OUT_ACCOUNT_TRANSFER</td>\n",
       "      <td>2023-11-23</td>\n",
       "      <td>{'account_id': 'ZAVvoKq6KXhOEA898ZBEUmexwdenxE...</td>\n",
       "      <td>NaN</td>\n",
       "      <td>True</td>\n",
       "    </tr>\n",
       "    <tr>\n",
       "      <th>3</th>\n",
       "      <td>ZAVvoKq6KXhOEA898ZBEUmexwdenxEubqxmxa</td>\n",
       "      <td>gbeAX5x05PUpKDOPOMeKIRDYkqDQQQf6gjNEQ</td>\n",
       "      <td>2023-01-12</td>\n",
       "      <td>INTEREST PAID</td>\n",
       "      <td>None</td>\n",
       "      <td>-0.24</td>\n",
       "      <td>INCOME</td>\n",
       "      <td>INCOME_INTEREST_EARNED</td>\n",
       "      <td>2023-11-23</td>\n",
       "      <td>{'account_id': 'ZAVvoKq6KXhOEA898ZBEUmexwdenxE...</td>\n",
       "      <td>NaN</td>\n",
       "      <td>True</td>\n",
       "    </tr>\n",
       "    <tr>\n",
       "      <th>4</th>\n",
       "      <td>ZAVvoKq6KXhOEA898ZBEUmexwdenxEubqxmxa</td>\n",
       "      <td>E7gJDO5POdUBO3yKy71Ou1Ng8nNDDDHdgo4q3</td>\n",
       "      <td>2023-01-04</td>\n",
       "      <td>USAA P&amp;C AUTOPAY</td>\n",
       "      <td>None</td>\n",
       "      <td>13.83</td>\n",
       "      <td>LOAN_PAYMENTS</td>\n",
       "      <td>LOAN_PAYMENTS_CREDIT_CARD_PAYMENT</td>\n",
       "      <td>2023-11-23</td>\n",
       "      <td>{'account_id': 'ZAVvoKq6KXhOEA898ZBEUmexwdenxE...</td>\n",
       "      <td>NaN</td>\n",
       "      <td>True</td>\n",
       "    </tr>\n",
       "  </tbody>\n",
       "</table>\n",
       "</div>"
      ],
      "text/plain": [
       "                              account_id  \\\n",
       "0  ZAVvoKq6KXhOEA898ZBEUmexwdenxEubqxmxa   \n",
       "1  ZAVvoKq6KXhOEA898ZBEUmexwdenxEubqxmxa   \n",
       "2  ZAVvoKq6KXhOEA898ZBEUmexwdenxEubqxmxa   \n",
       "3  ZAVvoKq6KXhOEA898ZBEUmexwdenxEubqxmxa   \n",
       "4  ZAVvoKq6KXhOEA898ZBEUmexwdenxEubqxmxa   \n",
       "\n",
       "                                  txn_id    txn_date             txn_name  \\\n",
       "0  R1E4rLpaLAUAY1g5gXX3fjqPMPYjB9teXNxP9  2023-11-02     USAA P&C AUTOPAY   \n",
       "1  0qPEomLYmnunAQgjgNvkCvjxz5eAYeIv6nr5D  2023-08-14                Venmo   \n",
       "2  4KyE9vqYvnu495PYPwR9C3Y0V4Y111cDXoPdQ  2023-03-28  ALLY BANK $TRANSFER   \n",
       "3  gbeAX5x05PUpKDOPOMeKIRDYkqDQQQf6gjNEQ  2023-01-12        INTEREST PAID   \n",
       "4  E7gJDO5POdUBO3yKy71Ou1Ng8nNDDDHdgo4q3  2023-01-04     USAA P&C AUTOPAY   \n",
       "\n",
       "  txn_name_plaid  txn_amount     txn_cat_plaid  \\\n",
       "0           None       13.83  GENERAL_SERVICES   \n",
       "1           None       20.00      TRANSFER_OUT   \n",
       "2           None    20000.00      TRANSFER_OUT   \n",
       "3           None       -0.24            INCOME   \n",
       "4           None       13.83     LOAN_PAYMENTS   \n",
       "\n",
       "                   txn_cat_plaid_dtl   create_dt  \\\n",
       "0         GENERAL_SERVICES_INSURANCE  2023-11-23   \n",
       "1      TRANSFER_OUT_ACCOUNT_TRANSFER  2023-11-23   \n",
       "2      TRANSFER_OUT_ACCOUNT_TRANSFER  2023-11-23   \n",
       "3             INCOME_INTEREST_EARNED  2023-11-23   \n",
       "4  LOAN_PAYMENTS_CREDIT_CARD_PAYMENT  2023-11-23   \n",
       "\n",
       "                                            raw_data  archive_dt  current  \n",
       "0  {'account_id': 'ZAVvoKq6KXhOEA898ZBEUmexwdenxE...         NaN     True  \n",
       "1  {'account_id': 'ZAVvoKq6KXhOEA898ZBEUmexwdenxE...         NaN     True  \n",
       "2  {'account_id': 'ZAVvoKq6KXhOEA898ZBEUmexwdenxE...         NaN     True  \n",
       "3  {'account_id': 'ZAVvoKq6KXhOEA898ZBEUmexwdenxE...         NaN     True  \n",
       "4  {'account_id': 'ZAVvoKq6KXhOEA898ZBEUmexwdenxE...         NaN     True  "
      ]
     },
     "execution_count": 5,
     "metadata": {},
     "output_type": "execute_result"
    }
   ],
   "source": [
    "txns.head()"
   ]
  },
  {
   "cell_type": "code",
   "execution_count": 6,
   "metadata": {},
   "outputs": [
    {
     "data": {
      "text/html": [
       "<div>\n",
       "<style scoped>\n",
       "    .dataframe tbody tr th:only-of-type {\n",
       "        vertical-align: middle;\n",
       "    }\n",
       "\n",
       "    .dataframe tbody tr th {\n",
       "        vertical-align: top;\n",
       "    }\n",
       "\n",
       "    .dataframe thead th {\n",
       "        text-align: right;\n",
       "    }\n",
       "</style>\n",
       "<table border=\"1\" class=\"dataframe\">\n",
       "  <thead>\n",
       "    <tr style=\"text-align: right;\">\n",
       "      <th></th>\n",
       "      <th>account_id</th>\n",
       "      <th>account_name</th>\n",
       "      <th>account_name_parent</th>\n",
       "      <th>account_name_ofcl</th>\n",
       "      <th>account_type</th>\n",
       "      <th>account_subtype</th>\n",
       "      <th>account_number</th>\n",
       "    </tr>\n",
       "  </thead>\n",
       "  <tbody>\n",
       "    <tr>\n",
       "      <th>0</th>\n",
       "      <td>5kKEV0BY0nt1DN7m7JbDIM0BJe08B1cw7KvKn</td>\n",
       "      <td>Andrew Transfer Account</td>\n",
       "      <td>USAA</td>\n",
       "      <td>None</td>\n",
       "      <td>depository</td>\n",
       "      <td>checking</td>\n",
       "      <td>4145</td>\n",
       "    </tr>\n",
       "    <tr>\n",
       "      <th>1</th>\n",
       "      <td>ZAVvoKq6KXhOEA898ZBEUmexwdenxEubqxmxa</td>\n",
       "      <td>Checking Main</td>\n",
       "      <td>USAA</td>\n",
       "      <td>None</td>\n",
       "      <td>depository</td>\n",
       "      <td>checking</td>\n",
       "      <td>8938</td>\n",
       "    </tr>\n",
       "    <tr>\n",
       "      <th>2</th>\n",
       "      <td>mNBk1yYDQYCvr1167ED1cA3qQx9EznsBoLm6P</td>\n",
       "      <td>Citi Double Cash® Card</td>\n",
       "      <td>Citi</td>\n",
       "      <td>Citi Double Cash® Card</td>\n",
       "      <td>credit</td>\n",
       "      <td>credit card</td>\n",
       "      <td>7158</td>\n",
       "    </tr>\n",
       "    <tr>\n",
       "      <th>3</th>\n",
       "      <td>o8dKV4RPoOiEB718x1BxHbpMrOeppeCr8ENBw</td>\n",
       "      <td>Savings Account</td>\n",
       "      <td>Ally</td>\n",
       "      <td>Savings Account</td>\n",
       "      <td>depository</td>\n",
       "      <td>savings</td>\n",
       "      <td>5826</td>\n",
       "    </tr>\n",
       "    <tr>\n",
       "      <th>4</th>\n",
       "      <td>RNDnVLk7jbTanV1DPj3pF0LRQM9xJVH9OZ3Kk</td>\n",
       "      <td>Delta SkyMiles® Gold Card</td>\n",
       "      <td>Amex_Natalie</td>\n",
       "      <td>Delta SkyMiles® Gold Card</td>\n",
       "      <td>credit</td>\n",
       "      <td>credit card</td>\n",
       "      <td>4009</td>\n",
       "    </tr>\n",
       "  </tbody>\n",
       "</table>\n",
       "</div>"
      ],
      "text/plain": [
       "                              account_id               account_name  \\\n",
       "0  5kKEV0BY0nt1DN7m7JbDIM0BJe08B1cw7KvKn    Andrew Transfer Account   \n",
       "1  ZAVvoKq6KXhOEA898ZBEUmexwdenxEubqxmxa              Checking Main   \n",
       "2  mNBk1yYDQYCvr1167ED1cA3qQx9EznsBoLm6P     Citi Double Cash® Card   \n",
       "3  o8dKV4RPoOiEB718x1BxHbpMrOeppeCr8ENBw            Savings Account   \n",
       "4  RNDnVLk7jbTanV1DPj3pF0LRQM9xJVH9OZ3Kk  Delta SkyMiles® Gold Card   \n",
       "\n",
       "  account_name_parent          account_name_ofcl account_type account_subtype  \\\n",
       "0                USAA                       None   depository        checking   \n",
       "1                USAA                       None   depository        checking   \n",
       "2                Citi     Citi Double Cash® Card       credit     credit card   \n",
       "3                Ally            Savings Account   depository         savings   \n",
       "4        Amex_Natalie  Delta SkyMiles® Gold Card       credit     credit card   \n",
       "\n",
       "  account_number  \n",
       "0           4145  \n",
       "1           8938  \n",
       "2           7158  \n",
       "3           5826  \n",
       "4           4009  "
      ]
     },
     "execution_count": 6,
     "metadata": {},
     "output_type": "execute_result"
    }
   ],
   "source": [
    "accts.head()"
   ]
  },
  {
   "cell_type": "code",
   "execution_count": 7,
   "metadata": {},
   "outputs": [],
   "source": [
    "ptxns = pd.read_parquet(\"/Users/andrewtaylor/Google Drive/01-Banking_Ins/Budget_Data/data/processed_transactions.parquet\")\n",
    "ptxns_2 = pd.read_parquet(\"/Users/andrewtaylor/Google Drive/01-Banking_Ins/Budget_Data/data/processed_transactions_2.parquet\")"
   ]
  },
  {
   "cell_type": "code",
   "execution_count": null,
   "metadata": {},
   "outputs": [],
   "source": []
  },
  {
   "cell_type": "code",
   "execution_count": 9,
   "metadata": {},
   "outputs": [
    {
     "data": {
      "text/plain": [
       "account_id             2563\n",
       "txn_id                 2563\n",
       "txn_name               2563\n",
       "txn_date               2563\n",
       "txn_amount             2563\n",
       "account_name_parent    2563\n",
       "account_name           2563\n",
       "txn_cat                2563\n",
       "txn_flag               2563\n",
       "dtype: int64"
      ]
     },
     "execution_count": 9,
     "metadata": {},
     "output_type": "execute_result"
    }
   ],
   "source": [
    "ptxns.count()"
   ]
  },
  {
   "cell_type": "code",
   "execution_count": 10,
   "metadata": {},
   "outputs": [
    {
     "data": {
      "text/plain": [
       "account_id             2534\n",
       "txn_id                 2534\n",
       "txn_name               2534\n",
       "txn_date               2534\n",
       "txn_amount             2534\n",
       "account_name_parent    2534\n",
       "account_name           2534\n",
       "txn_cat                2534\n",
       "txn_flag               2534\n",
       "dtype: int64"
      ]
     },
     "execution_count": 10,
     "metadata": {},
     "output_type": "execute_result"
    }
   ],
   "source": [
    "ptxns_2.count()"
   ]
  },
  {
   "cell_type": "code",
   "execution_count": 11,
   "metadata": {},
   "outputs": [],
   "source": [
    "gtxns = pd.read_parquet(\"/Users/andrewtaylor/Google Drive/01-Banking_Ins/Budget_Data/data/gsheet_transactions.parquet\")"
   ]
  },
  {
   "cell_type": "code",
   "execution_count": 12,
   "metadata": {},
   "outputs": [
    {
     "data": {
      "text/html": [
       "<div>\n",
       "<style scoped>\n",
       "    .dataframe tbody tr th:only-of-type {\n",
       "        vertical-align: middle;\n",
       "    }\n",
       "\n",
       "    .dataframe tbody tr th {\n",
       "        vertical-align: top;\n",
       "    }\n",
       "\n",
       "    .dataframe thead th {\n",
       "        text-align: right;\n",
       "    }\n",
       "</style>\n",
       "<table border=\"1\" class=\"dataframe\">\n",
       "  <thead>\n",
       "    <tr style=\"text-align: right;\">\n",
       "      <th></th>\n",
       "      <th>txn_date</th>\n",
       "      <th>txn_amount</th>\n",
       "      <th>txn_desc</th>\n",
       "      <th>account_name</th>\n",
       "      <th>txn_cat</th>\n",
       "      <th>txn_id</th>\n",
       "      <th>txn_flag</th>\n",
       "    </tr>\n",
       "  </thead>\n",
       "  <tbody>\n",
       "    <tr>\n",
       "      <th>0</th>\n",
       "      <td>2023-05-17</td>\n",
       "      <td>9.00</td>\n",
       "      <td>SAIGON SUBS AND ROLLCINCINNATI          OH</td>\n",
       "      <td>amex_andrew</td>\n",
       "      <td>No Category</td>\n",
       "      <td>2023-05-179.0SAIGON SUBS AND ROLLCINCINNATI   ...</td>\n",
       "      <td>New</td>\n",
       "    </tr>\n",
       "    <tr>\n",
       "      <th>1</th>\n",
       "      <td>2023-05-17</td>\n",
       "      <td>23.40</td>\n",
       "      <td>Incline Public HouseCincinnati          OH</td>\n",
       "      <td>amex_andrew</td>\n",
       "      <td>No Category</td>\n",
       "      <td>2023-05-1723.4Incline Public HouseCincinnati  ...</td>\n",
       "      <td>New</td>\n",
       "    </tr>\n",
       "    <tr>\n",
       "      <th>2</th>\n",
       "      <td>2023-05-17</td>\n",
       "      <td>12.99</td>\n",
       "      <td>SPOTIFY USA         NEW YORK            NY</td>\n",
       "      <td>amex_andrew</td>\n",
       "      <td>No Category</td>\n",
       "      <td>2023-05-1712.99SPOTIFY USA         NEW YORK   ...</td>\n",
       "      <td>New</td>\n",
       "    </tr>\n",
       "    <tr>\n",
       "      <th>3</th>\n",
       "      <td>2023-05-16</td>\n",
       "      <td>9.01</td>\n",
       "      <td>WESTIN CINCINNATI FBCINCINNATI          OH</td>\n",
       "      <td>amex_andrew</td>\n",
       "      <td>No Category</td>\n",
       "      <td>2023-05-169.01WESTIN CINCINNATI FBCINCINNATI  ...</td>\n",
       "      <td>New</td>\n",
       "    </tr>\n",
       "    <tr>\n",
       "      <th>4</th>\n",
       "      <td>2023-05-16</td>\n",
       "      <td>18.32</td>\n",
       "      <td>WALGREENS           CINCINNATI          OH</td>\n",
       "      <td>amex_andrew</td>\n",
       "      <td>No Category</td>\n",
       "      <td>2023-05-1618.32WALGREENS           CINCINNATI ...</td>\n",
       "      <td>New</td>\n",
       "    </tr>\n",
       "  </tbody>\n",
       "</table>\n",
       "</div>"
      ],
      "text/plain": [
       "    txn_date  txn_amount                                    txn_desc  \\\n",
       "0 2023-05-17        9.00  SAIGON SUBS AND ROLLCINCINNATI          OH   \n",
       "1 2023-05-17       23.40  Incline Public HouseCincinnati          OH   \n",
       "2 2023-05-17       12.99  SPOTIFY USA         NEW YORK            NY   \n",
       "3 2023-05-16        9.01  WESTIN CINCINNATI FBCINCINNATI          OH   \n",
       "4 2023-05-16       18.32  WALGREENS           CINCINNATI          OH   \n",
       "\n",
       "  account_name      txn_cat  \\\n",
       "0  amex_andrew  No Category   \n",
       "1  amex_andrew  No Category   \n",
       "2  amex_andrew  No Category   \n",
       "3  amex_andrew  No Category   \n",
       "4  amex_andrew  No Category   \n",
       "\n",
       "                                              txn_id txn_flag  \n",
       "0  2023-05-179.0SAIGON SUBS AND ROLLCINCINNATI   ...      New  \n",
       "1  2023-05-1723.4Incline Public HouseCincinnati  ...      New  \n",
       "2  2023-05-1712.99SPOTIFY USA         NEW YORK   ...      New  \n",
       "3  2023-05-169.01WESTIN CINCINNATI FBCINCINNATI  ...      New  \n",
       "4  2023-05-1618.32WALGREENS           CINCINNATI ...      New  "
      ]
     },
     "execution_count": 12,
     "metadata": {},
     "output_type": "execute_result"
    }
   ],
   "source": [
    "gtxns.head()"
   ]
  },
  {
   "cell_type": "code",
   "execution_count": null,
   "metadata": {},
   "outputs": [
    {
     "data": {
      "text/plain": [
       "(2025, 7)"
      ]
     },
     "execution_count": 13,
     "metadata": {},
     "output_type": "execute_result"
    }
   ],
   "source": [
    "gtxns.shape"
   ]
  },
  {
   "cell_type": "code",
   "execution_count": 11,
   "metadata": {},
   "outputs": [],
   "source": [
    "cat_data = pd.read_csv(\"/Users/andrewtaylor/Google Drive/01-Banking_Ins/Budget_Data/data/past_budget_data.csv\")"
   ]
  },
  {
   "cell_type": "code",
   "execution_count": 12,
   "metadata": {},
   "outputs": [],
   "source": [
    "(\n",
    "    cat_data\n",
    "    .reset_index().rename(columns={'index': 'txn_id', 'txn_desc':'txn_name'})\n",
    "    .to_parquet('/Users/andrewtaylor/Google Drive/01-Banking_Ins/Budget_Data/data/cat_data.parquet')\n",
    ")"
   ]
  }
 ],
 "metadata": {
  "kernelspec": {
   "display_name": "budget_plaid",
   "language": "python",
   "name": "python3"
  },
  "language_info": {
   "codemirror_mode": {
    "name": "ipython",
    "version": 3
   },
   "file_extension": ".py",
   "mimetype": "text/x-python",
   "name": "python",
   "nbconvert_exporter": "python",
   "pygments_lexer": "ipython3",
   "version": "3.7.0"
  },
  "orig_nbformat": 4
 },
 "nbformat": 4,
 "nbformat_minor": 2
}
