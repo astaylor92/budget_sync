{
 "cells": [
  {
   "cell_type": "code",
   "execution_count": 1,
   "metadata": {},
   "outputs": [],
   "source": [
    "import pandas as pd"
   ]
  },
  {
   "cell_type": "code",
   "execution_count": null,
   "metadata": {},
   "outputs": [],
   "source": [
    "txns = pd.read_parquet(\"/Users/andrewtaylor/Google Drive/01-Banking_Ins/Budget_Data/data/raw_transactions.parquet\")\n",
    "accts = pd.read_parquet(\"/Users/andrewtaylor/Google Drive/01-Banking_Ins/Budget_Data/data/account_info.parquet\")"
   ]
  },
  {
   "cell_type": "code",
   "execution_count": null,
   "metadata": {},
   "outputs": [],
   "source": [
    "txns.head()"
   ]
  },
  {
   "cell_type": "code",
   "execution_count": null,
   "metadata": {},
   "outputs": [],
   "source": [
    "accts.head()"
   ]
  },
  {
   "cell_type": "code",
   "execution_count": null,
   "metadata": {},
   "outputs": [],
   "source": [
    "ptxns = pd.read_parquet(\"/Users/andrewtaylor/Google Drive/01-Banking_Ins/Budget_Data/data/processed_transactions.parquet\")\n",
    "ptxns_2 = pd.read_parquet(\"/Users/andrewtaylor/Google Drive/01-Banking_Ins/Budget_Data/data/processed_transactions_2.parquet\")"
   ]
  },
  {
   "cell_type": "code",
   "execution_count": null,
   "metadata": {},
   "outputs": [],
   "source": [
    "ptxns"
   ]
  },
  {
   "cell_type": "code",
   "execution_count": null,
   "metadata": {},
   "outputs": [],
   "source": [
    "ptxns.count()"
   ]
  },
  {
   "cell_type": "code",
   "execution_count": null,
   "metadata": {},
   "outputs": [],
   "source": [
    "ptxns_2.count()"
   ]
  },
  {
   "cell_type": "code",
   "execution_count": null,
   "metadata": {},
   "outputs": [],
   "source": [
    "gtxns = pd.read_parquet(\"/Users/andrewtaylor/Google Drive/01-Banking_Ins/Budget_Data/data/gsheet_transactions.parquet\")"
   ]
  },
  {
   "cell_type": "code",
   "execution_count": null,
   "metadata": {},
   "outputs": [],
   "source": [
    "gtxns.head()"
   ]
  },
  {
   "cell_type": "code",
   "execution_count": null,
   "metadata": {},
   "outputs": [],
   "source": [
    "gtxns.shape"
   ]
  },
  {
   "cell_type": "code",
   "execution_count": null,
   "metadata": {},
   "outputs": [],
   "source": [
    "cat_data = pd.read_csv(\"/Users/andrewtaylor/Google Drive/01-Banking_Ins/Budget_Data/data/past_budget_data.csv\")"
   ]
  },
  {
   "cell_type": "code",
   "execution_count": null,
   "metadata": {},
   "outputs": [],
   "source": [
    "cat_data = pd.read_csv(r\"G:\\My Drive\\01-Banking_Ins\\Budget_Data\\data\\past_budget_data.csv\")\n",
    "(\n",
    "    cat_data\n",
    "    .reset_index().rename(columns={'index': 'txn_id', 'txn_desc':'txn_name'})\n",
    "    .astype({'txn_id':'str'})\n",
    "    .to_parquet(r'G:\\My Drive\\01-Banking_Ins\\Budget_Data\\data\\cat_data.parquet')\n",
    ")"
   ]
  },
  {
   "cell_type": "code",
   "execution_count": null,
   "metadata": {},
   "outputs": [],
   "source": [
    "pd.read_parquet('/Users/andrewtaylor/Google Drive/01-Banking_Ins/Budget_Data/data/raw_balances.parquet')"
   ]
  },
  {
   "cell_type": "code",
   "execution_count": null,
   "metadata": {},
   "outputs": [],
   "source": [
    "import datetime\n",
    "start_date = datetime.date(2023, 1, 1)\n",
    "pd.DataFrame({'bal_date': pd.date_range(start_date, datetime.datetime.today())})"
   ]
  },
  {
   "cell_type": "code",
   "execution_count": null,
   "metadata": {},
   "outputs": [],
   "source": [
    "processed_bals = pd.read_parquet('/Users/andrewtaylor/Google Drive/01-Banking_Ins/Budget_Data/data/processed_balances.parquet')"
   ]
  },
  {
   "cell_type": "code",
   "execution_count": null,
   "metadata": {},
   "outputs": [],
   "source": [
    "processed_bals"
   ]
  },
  {
   "cell_type": "markdown",
   "metadata": {},
   "source": [
    "# Windows"
   ]
  },
  {
   "cell_type": "code",
   "execution_count": null,
   "metadata": {},
   "outputs": [],
   "source": [
    "txns = pd.read_parquet(r\"G:\\My Drive\\01-Banking_Ins\\Budget_Data\\data\\raw_transactions.parquet\")\n",
    "# txns[~txns['account_id'].str.contains('NA_CHASE')].to_parquet(r\"G:\\My Drive\\01-Banking_Ins\\Budget_Data\\data\\raw_transactions.parquet\")"
   ]
  },
  {
   "cell_type": "code",
   "execution_count": null,
   "metadata": {},
   "outputs": [],
   "source": [
    "p_txns = pd.read_parquet(r\"G:\\My Drive\\01-Banking_Ins\\Budget_Data\\data\\processed_transactions.parquet\")\n",
    "p_txns.head()"
   ]
  },
  {
   "cell_type": "code",
   "execution_count": null,
   "metadata": {},
   "outputs": [],
   "source": [
    "g_txns = pd.read_parquet(r\"G:\\My Drive\\01-Banking_Ins\\Budget_Data\\data\\gsheet_transactions.parquet\")\n",
    "g_txns.head()"
   ]
  },
  {
   "cell_type": "code",
   "execution_count": null,
   "metadata": {},
   "outputs": [],
   "source": [
    "account_info = pd.read_parquet(r\"G:\\My Drive\\01-Banking_Ins\\Budget_Data\\data\\account_info.parquet\")\n",
    "account_info.head(20)"
   ]
  },
  {
   "cell_type": "code",
   "execution_count": null,
   "metadata": {},
   "outputs": [],
   "source": [
    "cat_data = pd.read_csv(r\"G:\\My Drive\\01-Banking_Ins\\Budget_Data\\data\\past_budget_data.csv\")\n",
    "(\n",
    "    cat_data\n",
    "    .reset_index().rename(columns={'index': 'txn_id', 'txn_desc':'txn_name'})\n",
    "    .astype({'txn_id':'str'})\n",
    "    .to_parquet(r'G:\\My Drive\\01-Banking_Ins\\Budget_Data\\data\\cat_data.parquet')\n",
    ")"
   ]
  },
  {
   "cell_type": "markdown",
   "metadata": {},
   "source": [
    "# Remove Repeats from processed and raw transactions"
   ]
  },
  {
   "cell_type": "code",
   "execution_count": 64,
   "metadata": {},
   "outputs": [],
   "source": [
    "txns = pd.read_parquet(r\"G:\\My Drive\\01-Banking_Ins\\Budget_Data\\data\\raw_transactions.parquet\")\n",
    "p_txns = pd.read_parquet(r\"G:\\My Drive\\01-Banking_Ins\\Budget_Data\\data\\processed_transactions.parquet\")\n",
    "g_txns = pd.read_parquet(r\"G:\\My Drive\\01-Banking_Ins\\Budget_Data\\data\\gsheet_transactions.parquet\")"
   ]
  },
  {
   "cell_type": "code",
   "execution_count": 71,
   "metadata": {},
   "outputs": [
    {
     "data": {
      "text/html": [
       "<div>\n",
       "<style scoped>\n",
       "    .dataframe tbody tr th:only-of-type {\n",
       "        vertical-align: middle;\n",
       "    }\n",
       "\n",
       "    .dataframe tbody tr th {\n",
       "        vertical-align: top;\n",
       "    }\n",
       "\n",
       "    .dataframe thead th {\n",
       "        text-align: right;\n",
       "    }\n",
       "</style>\n",
       "<table border=\"1\" class=\"dataframe\">\n",
       "  <thead>\n",
       "    <tr style=\"text-align: right;\">\n",
       "      <th></th>\n",
       "      <th>txn_date</th>\n",
       "      <th>txn_amount</th>\n",
       "      <th>txn_name</th>\n",
       "      <th>account_name_parent</th>\n",
       "      <th>txn_cat</th>\n",
       "      <th>txn_cat_flag</th>\n",
       "      <th>txn_id</th>\n",
       "    </tr>\n",
       "  </thead>\n",
       "  <tbody>\n",
       "  </tbody>\n",
       "</table>\n",
       "</div>"
      ],
      "text/plain": [
       "Empty DataFrame\n",
       "Columns: [txn_date, txn_amount, txn_name, account_name_parent, txn_cat, txn_cat_flag, txn_id]\n",
       "Index: []"
      ]
     },
     "execution_count": 71,
     "metadata": {},
     "output_type": "execute_result"
    }
   ],
   "source": [
    "g_txns[g_txns['txn_name']=='180 VILANO GRILL']"
   ]
  },
  {
   "cell_type": "code",
   "execution_count": 66,
   "metadata": {},
   "outputs": [
    {
     "name": "stdout",
     "output_type": "stream",
     "text": [
      "1    241\n",
      "Name: count, dtype: int64\n"
     ]
    }
   ],
   "source": [
    "exclude_ids = ['NA_CHASE_65',\n",
    " 'NA_CHASE_66',\n",
    " 'NA_CHASE_67',\n",
    " 'NA_CHASE_68',\n",
    " 'NA_CHASE_69',\n",
    " 'NA_CHASE_70',\n",
    " 'NA_CHASE_71',\n",
    " 'NA_CHASE_72',\n",
    " 'NA_CHASE_73',\n",
    " 'NA_CHASE_74']\n",
    "dupe_cols = [c for c in txns.columns if c not in ['raw_data', 'txn_id', 'create_dt', 'archive_dt', 'current', 'txn_cat_plaid', 'txn_name_plaid', 'txn_cat_plaid_dtl', 'txn_date']]\n",
    "txns_1 = txns[~txns['txn_id'].isin(exclude_ids)].drop_duplicates(subset='txn_id')\n",
    "txns_2 = (\n",
    "    txns_1\n",
    "    .assign(count=lambda x: x.groupby(dupe_cols)['txn_id'].transform('count'))\n",
    ")\n",
    "print(txns_2['count'].value_counts())\n",
    "txns_3 = txns_2[txns_2['count']==1].drop('count', axis=1)"
   ]
  },
  {
   "cell_type": "code",
   "execution_count": 67,
   "metadata": {},
   "outputs": [
    {
     "name": "stdout",
     "output_type": "stream",
     "text": [
      "1    243\n",
      "Name: count, dtype: int64\n"
     ]
    }
   ],
   "source": [
    "p_dupe_cols = [c for c in p_txns.columns if c not in ['txn_cat', 'txn_cat_flag', 'txn_id', 'txn_date', 'txn_date']]\n",
    "p_txns_1 = p_txns[~p_txns['txn_id'].isin(exclude_ids)].sort_values('txn_cat_flag', ascending=False).drop_duplicates(subset='txn_id')\n",
    "p_txns_2 = (\n",
    "    p_txns_1\n",
    "    .assign(count=lambda x: x.groupby(p_dupe_cols)['txn_id'].transform('count'))\n",
    ")\n",
    "print(p_txns_2['count'].value_counts())\n",
    "p_txns_3 = p_txns_2[p_txns_2['count']==1].drop('count', axis=1)"
   ]
  },
  {
   "cell_type": "code",
   "execution_count": 68,
   "metadata": {},
   "outputs": [
    {
     "data": {
      "text/html": [
       "<div>\n",
       "<style scoped>\n",
       "    .dataframe tbody tr th:only-of-type {\n",
       "        vertical-align: middle;\n",
       "    }\n",
       "\n",
       "    .dataframe tbody tr th {\n",
       "        vertical-align: top;\n",
       "    }\n",
       "\n",
       "    .dataframe thead th {\n",
       "        text-align: right;\n",
       "    }\n",
       "</style>\n",
       "<table border=\"1\" class=\"dataframe\">\n",
       "  <thead>\n",
       "    <tr style=\"text-align: right;\">\n",
       "      <th></th>\n",
       "      <th>txn_date</th>\n",
       "      <th>txn_amount</th>\n",
       "      <th>txn_name</th>\n",
       "      <th>account_name_parent</th>\n",
       "      <th>txn_cat</th>\n",
       "      <th>txn_cat_flag</th>\n",
       "      <th>txn_id</th>\n",
       "    </tr>\n",
       "  </thead>\n",
       "  <tbody>\n",
       "    <tr>\n",
       "      <th>108</th>\n",
       "      <td>2024-01-29</td>\n",
       "      <td>695</td>\n",
       "      <td>MEMBERSHIP FEE</td>\n",
       "      <td>Amex_Natalie</td>\n",
       "      <td>Payment - N/A</td>\n",
       "      <td>True</td>\n",
       "      <td>4LA3dvkPJNSkLZ5j3Kq5sY90yy6911FR8epR8</td>\n",
       "    </tr>\n",
       "  </tbody>\n",
       "</table>\n",
       "</div>"
      ],
      "text/plain": [
       "      txn_date txn_amount        txn_name account_name_parent        txn_cat  \\\n",
       "108 2024-01-29        695  MEMBERSHIP FEE        Amex_Natalie  Payment - N/A   \n",
       "\n",
       "     txn_cat_flag                                 txn_id  \n",
       "108          True  4LA3dvkPJNSkLZ5j3Kq5sY90yy6911FR8epR8  "
      ]
     },
     "execution_count": 68,
     "metadata": {},
     "output_type": "execute_result"
    }
   ],
   "source": [
    "g_txns[g_txns['txn_name']=='MEMBERSHIP FEE']"
   ]
  },
  {
   "cell_type": "code",
   "execution_count": 69,
   "metadata": {},
   "outputs": [
    {
     "name": "stdout",
     "output_type": "stream",
     "text": [
      "1    238\n",
      "Name: count, dtype: int64\n"
     ]
    }
   ],
   "source": [
    "g_dupe_cols = [c for c in g_txns.columns if c not in ['txn_cat', 'txn_cat_flag', 'txn_id', 'txn_date']]\n",
    "g_txns_1 = g_txns[~g_txns['txn_id'].isin(exclude_ids)].sort_values('txn_cat_flag', ascending=False).drop_duplicates(subset='txn_id')\n",
    "g_txns_2 = (\n",
    "    g_txns_1\n",
    "    .assign(count=lambda x: x.groupby(g_dupe_cols)['txn_id'].transform('count'))\n",
    ")\n",
    "print(g_txns_2['count'].value_counts())\n",
    "g_txns_3 = g_txns_2[g_txns_2['count']==1].drop('count', axis=1)"
   ]
  },
  {
   "cell_type": "code",
   "execution_count": 70,
   "metadata": {},
   "outputs": [],
   "source": [
    "txns_3.to_parquet(r\"G:\\My Drive\\01-Banking_Ins\\Budget_Data\\data\\raw_transactions.parquet\")\n",
    "p_txns_3.to_parquet(r\"G:\\My Drive\\01-Banking_Ins\\Budget_Data\\data\\processed_transactions.parquet\")\n",
    "g_txns_3.to_parquet(r\"G:\\My Drive\\01-Banking_Ins\\Budget_Data\\data\\gsheet_transactions.parquet\")"
   ]
  }
 ],
 "metadata": {
  "kernelspec": {
   "display_name": "budget_plaid",
   "language": "python",
   "name": "python3"
  },
  "language_info": {
   "codemirror_mode": {
    "name": "ipython",
    "version": 3
   },
   "file_extension": ".py",
   "mimetype": "text/x-python",
   "name": "python",
   "nbconvert_exporter": "python",
   "pygments_lexer": "ipython3",
   "version": "3.7.0"
  },
  "orig_nbformat": 4
 },
 "nbformat": 4,
 "nbformat_minor": 2
}
