{
 "cells": [
  {
   "cell_type": "code",
   "execution_count": 3,
   "metadata": {},
   "outputs": [],
   "source": [
    "import pandas as pd"
   ]
  },
  {
   "cell_type": "code",
   "execution_count": null,
   "metadata": {},
   "outputs": [],
   "source": [
    "txns = pd.read_parquet(\"/Users/andrewtaylor/Google Drive/01-Banking_Ins/Budget_Data/data/raw_transactions.parquet\")\n",
    "accts = pd.read_parquet(\"/Users/andrewtaylor/Google Drive/01-Banking_Ins/Budget_Data/data/account_info.parquet\")"
   ]
  },
  {
   "cell_type": "code",
   "execution_count": null,
   "metadata": {},
   "outputs": [],
   "source": [
    "txns.head()"
   ]
  },
  {
   "cell_type": "code",
   "execution_count": null,
   "metadata": {},
   "outputs": [],
   "source": [
    "accts.head()"
   ]
  },
  {
   "cell_type": "code",
   "execution_count": null,
   "metadata": {},
   "outputs": [],
   "source": [
    "ptxns = pd.read_parquet(\"/Users/andrewtaylor/Google Drive/01-Banking_Ins/Budget_Data/data/processed_transactions.parquet\")\n",
    "ptxns_2 = pd.read_parquet(\"/Users/andrewtaylor/Google Drive/01-Banking_Ins/Budget_Data/data/processed_transactions_2.parquet\")"
   ]
  },
  {
   "cell_type": "code",
   "execution_count": null,
   "metadata": {},
   "outputs": [],
   "source": [
    "ptxns"
   ]
  },
  {
   "cell_type": "code",
   "execution_count": null,
   "metadata": {},
   "outputs": [],
   "source": [
    "ptxns.count()"
   ]
  },
  {
   "cell_type": "code",
   "execution_count": null,
   "metadata": {},
   "outputs": [],
   "source": [
    "ptxns_2.count()"
   ]
  },
  {
   "cell_type": "code",
   "execution_count": null,
   "metadata": {},
   "outputs": [],
   "source": [
    "gtxns = pd.read_parquet(\"/Users/andrewtaylor/Google Drive/01-Banking_Ins/Budget_Data/data/gsheet_transactions.parquet\")"
   ]
  },
  {
   "cell_type": "code",
   "execution_count": null,
   "metadata": {},
   "outputs": [],
   "source": [
    "gtxns.head()"
   ]
  },
  {
   "cell_type": "code",
   "execution_count": null,
   "metadata": {},
   "outputs": [],
   "source": [
    "gtxns.shape"
   ]
  },
  {
   "cell_type": "code",
   "execution_count": null,
   "metadata": {},
   "outputs": [],
   "source": [
    "cat_data = pd.read_csv(\"/Users/andrewtaylor/Google Drive/01-Banking_Ins/Budget_Data/data/past_budget_data.csv\")"
   ]
  },
  {
   "cell_type": "code",
   "execution_count": null,
   "metadata": {},
   "outputs": [],
   "source": [
    "cat_data = pd.read_csv(r\"G:\\My Drive\\01-Banking_Ins\\Budget_Data\\data\\past_budget_data.csv\")\n",
    "(\n",
    "    cat_data\n",
    "    .reset_index().rename(columns={'index': 'txn_id', 'txn_desc':'txn_name'})\n",
    "    .astype({'txn_id':'str'})\n",
    "    .to_parquet(r'G:\\My Drive\\01-Banking_Ins\\Budget_Data\\data\\cat_data.parquet')\n",
    ")"
   ]
  },
  {
   "cell_type": "code",
   "execution_count": null,
   "metadata": {},
   "outputs": [],
   "source": [
    "pd.read_parquet('/Users/andrewtaylor/Google Drive/01-Banking_Ins/Budget_Data/data/raw_balances.parquet')"
   ]
  },
  {
   "cell_type": "code",
   "execution_count": null,
   "metadata": {},
   "outputs": [],
   "source": [
    "import datetime\n",
    "start_date = datetime.date(2023, 1, 1)\n",
    "pd.DataFrame({'bal_date': pd.date_range(start_date, datetime.datetime.today())})"
   ]
  },
  {
   "cell_type": "code",
   "execution_count": null,
   "metadata": {},
   "outputs": [],
   "source": [
    "processed_bals = pd.read_parquet('/Users/andrewtaylor/Google Drive/01-Banking_Ins/Budget_Data/data/processed_balances.parquet')"
   ]
  },
  {
   "cell_type": "code",
   "execution_count": null,
   "metadata": {},
   "outputs": [],
   "source": [
    "processed_bals"
   ]
  },
  {
   "cell_type": "markdown",
   "metadata": {},
   "source": [
    "# Windows"
   ]
  },
  {
   "cell_type": "code",
   "execution_count": null,
   "metadata": {},
   "outputs": [],
   "source": [
    "txns = pd.read_parquet(r\"G:\\My Drive\\01-Banking_Ins\\Budget_Data\\data\\raw_transactions.parquet\")\n",
    "# txns[~txns['account_id'].str.contains('NA_CHASE')].to_parquet(r\"G:\\My Drive\\01-Banking_Ins\\Budget_Data\\data\\raw_transactions.parquet\")"
   ]
  },
  {
   "cell_type": "code",
   "execution_count": null,
   "metadata": {},
   "outputs": [],
   "source": [
    "p_txns = pd.read_parquet(r\"G:\\My Drive\\01-Banking_Ins\\Budget_Data\\data\\processed_transactions.parquet\")\n",
    "p_txns.head()"
   ]
  },
  {
   "cell_type": "code",
   "execution_count": null,
   "metadata": {},
   "outputs": [],
   "source": [
    "g_txns = pd.read_parquet(r\"G:\\My Drive\\01-Banking_Ins\\Budget_Data\\data\\gsheet_transactions.parquet\")\n",
    "g_txns.head()"
   ]
  },
  {
   "cell_type": "code",
   "execution_count": null,
   "metadata": {},
   "outputs": [],
   "source": [
    "account_info = pd.read_parquet(r\"G:\\My Drive\\01-Banking_Ins\\Budget_Data\\data\\account_info.parquet\")\n",
    "account_info.head(20)"
   ]
  },
  {
   "cell_type": "code",
   "execution_count": null,
   "metadata": {},
   "outputs": [],
   "source": [
    "cat_data = pd.read_csv(r\"G:\\My Drive\\01-Banking_Ins\\Budget_Data\\data\\past_budget_data.csv\")\n",
    "(\n",
    "    cat_data\n",
    "    .reset_index().rename(columns={'index': 'txn_id', 'txn_desc':'txn_name'})\n",
    "    .astype({'txn_id':'str'})\n",
    "    .to_parquet(r'G:\\My Drive\\01-Banking_Ins\\Budget_Data\\data\\cat_data.parquet')\n",
    ")"
   ]
  },
  {
   "cell_type": "markdown",
   "metadata": {},
   "source": [
    "# Remove Repeats from processed and raw transactions"
   ]
  },
  {
   "cell_type": "code",
   "execution_count": 4,
   "metadata": {},
   "outputs": [],
   "source": [
    "txns = pd.read_parquet(r\"G:\\My Drive\\01-Banking_Ins\\Budget_Data\\data\\raw_transactions.parquet\")\n",
    "p_txns = pd.read_parquet(r\"G:\\My Drive\\01-Banking_Ins\\Budget_Data\\data\\processed_transactions.parquet\")\n",
    "g_txns = pd.read_parquet(r\"G:\\My Drive\\01-Banking_Ins\\Budget_Data\\data\\gsheet_transactions.parquet\")"
   ]
  },
  {
   "cell_type": "code",
   "execution_count": 5,
   "metadata": {},
   "outputs": [],
   "source": [
    "manual_remove_txns = [\n",
    "    'RMA TOLL','RMA TOLL USA','APPLE.COM/BILL','APPLE.COM/BILL CUPERTINO USA','PARAMOUNT+ WEST HOLLYWOO','Kindle Svcs*MB9YS6UJ3 WA Digital Account Number XXXXXXXXXXXX8143',\n",
    "    'Kindle Svcs*R20SU0G00 WA Digital Account Number XXXXXXXXXXXX8143','Kindle Svcs USA','USA TECHNOLOGIES','USA TECHNOLOGIES','AMAZON.COM*RT8MR0A80',\n",
    "    'APPLE.COM/BILL','PALMS CAR WASH','PALMS CAR WASH AUSTIN USA','PANGOBOOKS HENDERSONVILL TN Digital Account Number XXXXXXXXXXXX4514',\n",
    "    'PANGOBOOKS +16152859422 USA','APPLE.COM/BILL','Nintendo CA1121788447','BOOKSAMILLION.COM','BOOKSAMILLION.COM BIRMINGHAM USA',\n",
    "    'ETSY.COM - ARTISANFASH BROOKLYN USA','ETSY.COM - ARTISANFASH 8446593879 NY Digital Account Number XXXXXXXXXXXX5186','PANGOBOOKS HENDERSONVILL TN Digital Account Number XXXXXXXXXXXX4514',\n",
    "    'PANGOBOOKS +16152859422 USA','Nike.com 1800806645','Nike.com 1800806645 USA'\n",
    "]"
   ]
  },
  {
   "cell_type": "code",
   "execution_count": 6,
   "metadata": {},
   "outputs": [
    {
     "data": {
      "text/html": [
       "<div>\n",
       "<style scoped>\n",
       "    .dataframe tbody tr th:only-of-type {\n",
       "        vertical-align: middle;\n",
       "    }\n",
       "\n",
       "    .dataframe tbody tr th {\n",
       "        vertical-align: top;\n",
       "    }\n",
       "\n",
       "    .dataframe thead th {\n",
       "        text-align: right;\n",
       "    }\n",
       "</style>\n",
       "<table border=\"1\" class=\"dataframe\">\n",
       "  <thead>\n",
       "    <tr style=\"text-align: right;\">\n",
       "      <th></th>\n",
       "      <th>txn_date</th>\n",
       "      <th>txn_amount</th>\n",
       "      <th>txn_name</th>\n",
       "      <th>account_name_parent</th>\n",
       "      <th>txn_cat</th>\n",
       "      <th>txn_cat_flag</th>\n",
       "      <th>txn_id</th>\n",
       "    </tr>\n",
       "  </thead>\n",
       "  <tbody>\n",
       "    <tr>\n",
       "      <th>59</th>\n",
       "      <td>2024-01-05</td>\n",
       "      <td>31.61</td>\n",
       "      <td>180 VILANO GRILL</td>\n",
       "      <td>Chase</td>\n",
       "      <td>Restaurants</td>\n",
       "      <td>False</td>\n",
       "      <td>NA_CHASE_30</td>\n",
       "    </tr>\n",
       "    <tr>\n",
       "      <th>64</th>\n",
       "      <td>2024-01-01</td>\n",
       "      <td>31.61</td>\n",
       "      <td>180 VILANO GRILL</td>\n",
       "      <td>Chase</td>\n",
       "      <td>Restaurants</td>\n",
       "      <td>False</td>\n",
       "      <td>NA_CHASE_39</td>\n",
       "    </tr>\n",
       "  </tbody>\n",
       "</table>\n",
       "</div>"
      ],
      "text/plain": [
       "     txn_date txn_amount          txn_name account_name_parent      txn_cat  \\\n",
       "59 2024-01-05      31.61  180 VILANO GRILL               Chase  Restaurants   \n",
       "64 2024-01-01      31.61  180 VILANO GRILL               Chase  Restaurants   \n",
       "\n",
       "    txn_cat_flag       txn_id  \n",
       "59         False  NA_CHASE_30  \n",
       "64         False  NA_CHASE_39  "
      ]
     },
     "execution_count": 6,
     "metadata": {},
     "output_type": "execute_result"
    }
   ],
   "source": [
    "g_txns[g_txns['txn_name']=='180 VILANO GRILL']"
   ]
  },
  {
   "cell_type": "code",
   "execution_count": 7,
   "metadata": {},
   "outputs": [
    {
     "name": "stdout",
     "output_type": "stream",
     "text": [
      "1    242\n",
      "2     14\n",
      "Name: count, dtype: int64\n"
     ]
    }
   ],
   "source": [
    "exclude_ids = ['NA_CHASE_65',\n",
    " 'NA_CHASE_66',\n",
    " 'NA_CHASE_67',\n",
    " 'NA_CHASE_68',\n",
    " 'NA_CHASE_69',\n",
    " 'NA_CHASE_70',\n",
    " 'NA_CHASE_71',\n",
    " 'NA_CHASE_72',\n",
    " 'NA_CHASE_73',\n",
    " 'NA_CHASE_74']\n",
    "dupe_cols = [c for c in txns.columns if c not in ['raw_data', 'txn_id', 'create_dt', 'archive_dt', 'current', 'txn_cat_plaid', 'txn_name_plaid', 'txn_cat_plaid_dtl', 'txn_date']]\n",
    "txns_1 = txns[~txns['txn_id'].isin(exclude_ids)].drop_duplicates(subset='txn_id')\n",
    "txns_2 = (\n",
    "    txns_1\n",
    "    .assign(count=lambda x: x.groupby(dupe_cols)['txn_id'].transform('count'))\n",
    ")\n",
    "print(txns_2['count'].value_counts())\n",
    "txns_3 = txns_2[txns_2['count']==1].drop('count', axis=1)\n",
    "txns_4 = txns_3[~txns_3['txn_name'].isin(manual_remove_txns)]"
   ]
  },
  {
   "cell_type": "code",
   "execution_count": 8,
   "metadata": {},
   "outputs": [
    {
     "name": "stdout",
     "output_type": "stream",
     "text": [
      "1    242\n",
      "2     14\n",
      "Name: count, dtype: int64\n"
     ]
    }
   ],
   "source": [
    "p_dupe_cols = [c for c in p_txns.columns if c not in ['txn_cat', 'txn_cat_flag', 'txn_id', 'txn_date', 'txn_date']]\n",
    "p_txns_1 = p_txns[~p_txns['txn_id'].isin(exclude_ids)].sort_values('txn_cat_flag', ascending=False).drop_duplicates(subset='txn_id')\n",
    "p_txns_2 = (\n",
    "    p_txns_1\n",
    "    .assign(count=lambda x: x.groupby(p_dupe_cols)['txn_id'].transform('count'))\n",
    ")\n",
    "print(p_txns_2['count'].value_counts())\n",
    "p_txns_3 = p_txns_2[p_txns_2['count']==1].drop('count', axis=1)\n",
    "p_txns_4 = p_txns_3[~p_txns_3['txn_name'].isin(manual_remove_txns)]"
   ]
  },
  {
   "cell_type": "code",
   "execution_count": 9,
   "metadata": {},
   "outputs": [
    {
     "data": {
      "text/html": [
       "<div>\n",
       "<style scoped>\n",
       "    .dataframe tbody tr th:only-of-type {\n",
       "        vertical-align: middle;\n",
       "    }\n",
       "\n",
       "    .dataframe tbody tr th {\n",
       "        vertical-align: top;\n",
       "    }\n",
       "\n",
       "    .dataframe thead th {\n",
       "        text-align: right;\n",
       "    }\n",
       "</style>\n",
       "<table border=\"1\" class=\"dataframe\">\n",
       "  <thead>\n",
       "    <tr style=\"text-align: right;\">\n",
       "      <th></th>\n",
       "      <th>txn_date</th>\n",
       "      <th>txn_amount</th>\n",
       "      <th>txn_name</th>\n",
       "      <th>account_name_parent</th>\n",
       "      <th>txn_cat</th>\n",
       "      <th>txn_cat_flag</th>\n",
       "      <th>txn_id</th>\n",
       "    </tr>\n",
       "  </thead>\n",
       "  <tbody>\n",
       "    <tr>\n",
       "      <th>74</th>\n",
       "      <td>2024-01-29</td>\n",
       "      <td>695</td>\n",
       "      <td>MEMBERSHIP FEE</td>\n",
       "      <td>Amex_Natalie</td>\n",
       "      <td>Payment - N/A</td>\n",
       "      <td>True</td>\n",
       "      <td>4LA3dvkPJNSkLZ5j3Kq5sY90yy6911FR8epR8</td>\n",
       "    </tr>\n",
       "  </tbody>\n",
       "</table>\n",
       "</div>"
      ],
      "text/plain": [
       "     txn_date txn_amount        txn_name account_name_parent        txn_cat  \\\n",
       "74 2024-01-29        695  MEMBERSHIP FEE        Amex_Natalie  Payment - N/A   \n",
       "\n",
       "    txn_cat_flag                                 txn_id  \n",
       "74          True  4LA3dvkPJNSkLZ5j3Kq5sY90yy6911FR8epR8  "
      ]
     },
     "execution_count": 9,
     "metadata": {},
     "output_type": "execute_result"
    }
   ],
   "source": [
    "g_txns[g_txns['txn_name']=='MEMBERSHIP FEE']"
   ]
  },
  {
   "cell_type": "code",
   "execution_count": 12,
   "metadata": {},
   "outputs": [
    {
     "name": "stdout",
     "output_type": "stream",
     "text": [
      "1    240\n",
      "2     12\n",
      "3      3\n",
      "Name: count, dtype: int64\n"
     ]
    }
   ],
   "source": [
    "g_dupe_cols = [c for c in g_txns.columns if c not in ['txn_cat', 'txn_cat_flag', 'txn_id', 'txn_date']]\n",
    "g_txns_1 = g_txns[~g_txns['txn_id'].isin(exclude_ids)].sort_values('txn_cat_flag', ascending=False).drop_duplicates(subset='txn_id')\n",
    "g_txns_2 = (\n",
    "    g_txns_1\n",
    "    .assign(count=lambda x: x.groupby(g_dupe_cols)['txn_id'].transform('count'))\n",
    ")\n",
    "print(g_txns_2['count'].value_counts())\n",
    "g_txns_3 = g_txns_2[g_txns_2['count']==1].drop('count', axis=1)\n",
    "g_txns_4 = g_txns_3[~g_txns_3['txn_name'].isin(manual_remove_txns)]"
   ]
  },
  {
   "cell_type": "code",
   "execution_count": 13,
   "metadata": {},
   "outputs": [],
   "source": [
    "txns_4.to_parquet(r\"G:\\My Drive\\01-Banking_Ins\\Budget_Data\\data\\raw_transactions.parquet\")\n",
    "p_txns_4.to_parquet(r\"G:\\My Drive\\01-Banking_Ins\\Budget_Data\\data\\processed_transactions.parquet\")\n",
    "g_txns_4.to_parquet(r\"G:\\My Drive\\01-Banking_Ins\\Budget_Data\\data\\gsheet_transactions.parquet\")"
   ]
  }
 ],
 "metadata": {
  "kernelspec": {
   "display_name": "budget_plaid",
   "language": "python",
   "name": "python3"
  },
  "language_info": {
   "codemirror_mode": {
    "name": "ipython",
    "version": 3
   },
   "file_extension": ".py",
   "mimetype": "text/x-python",
   "name": "python",
   "nbconvert_exporter": "python",
   "pygments_lexer": "ipython3",
   "version": "3.7.0"
  },
  "orig_nbformat": 4
 },
 "nbformat": 4,
 "nbformat_minor": 2
}
